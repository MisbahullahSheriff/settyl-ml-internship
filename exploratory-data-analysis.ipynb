{
 "cells": [
  {
   "cell_type": "markdown",
   "id": "e16dc2a3-95db-4102-84dd-ccf77add12fe",
   "metadata": {},
   "source": [
    "## Imports"
   ]
  },
  {
   "cell_type": "code",
   "execution_count": 1,
   "id": "9cabff90-1d37-4f95-a27f-3bb67596ab1e",
   "metadata": {},
   "outputs": [],
   "source": [
    "import os\n",
    "import numpy as np\n",
    "import pandas as pd\n",
    "import matplotlib.pyplot as plt"
   ]
  },
  {
   "cell_type": "markdown",
   "id": "01f47abb-c453-4579-9a84-b7ab05a00375",
   "metadata": {},
   "source": [
    "## Fetch Data"
   ]
  },
  {
   "cell_type": "code",
   "execution_count": 2,
   "id": "634be974-f63c-4d8a-92a2-578f86fdc620",
   "metadata": {},
   "outputs": [],
   "source": [
    "def fetch_data(filename):\n",
    "\tfetch_dir = os.path.join(os.getcwd(), 'data')\n",
    "\tdata_path = os.path.join(fetch_dir, f\"{filename}.parquet\")\n",
    "\treturn pd.read_parquet(data_path)"
   ]
  },
  {
   "cell_type": "code",
   "execution_count": 3,
   "id": "bc42e014-0aff-48b4-9e84-281f841fa646",
   "metadata": {},
   "outputs": [
    {
     "data": {
      "text/html": [
       "<div>\n",
       "<style scoped>\n",
       "    .dataframe tbody tr th:only-of-type {\n",
       "        vertical-align: middle;\n",
       "    }\n",
       "\n",
       "    .dataframe tbody tr th {\n",
       "        vertical-align: top;\n",
       "    }\n",
       "\n",
       "    .dataframe thead th {\n",
       "        text-align: right;\n",
       "    }\n",
       "</style>\n",
       "<table border=\"1\" class=\"dataframe\">\n",
       "  <thead>\n",
       "    <tr style=\"text-align: right;\">\n",
       "      <th></th>\n",
       "      <th>user_id</th>\n",
       "      <th>product_id</th>\n",
       "      <th>rating</th>\n",
       "      <th>timestamp</th>\n",
       "    </tr>\n",
       "  </thead>\n",
       "  <tbody>\n",
       "    <tr>\n",
       "      <th>0</th>\n",
       "      <td>A32WYCA6H2OJ1P</td>\n",
       "      <td>B000UV4EUG</td>\n",
       "      <td>1</td>\n",
       "      <td>1221350400</td>\n",
       "    </tr>\n",
       "    <tr>\n",
       "      <th>1</th>\n",
       "      <td>A1Y789H45U75X</td>\n",
       "      <td>B004G6002M</td>\n",
       "      <td>5</td>\n",
       "      <td>1357862400</td>\n",
       "    </tr>\n",
       "    <tr>\n",
       "      <th>2</th>\n",
       "      <td>A2BVZA2KEVIWTV</td>\n",
       "      <td>B000MEDI3K</td>\n",
       "      <td>5</td>\n",
       "      <td>1233532800</td>\n",
       "    </tr>\n",
       "    <tr>\n",
       "      <th>3</th>\n",
       "      <td>A2TQBTE41AUBE5</td>\n",
       "      <td>B0000AW0QQ</td>\n",
       "      <td>4</td>\n",
       "      <td>1145491200</td>\n",
       "    </tr>\n",
       "    <tr>\n",
       "      <th>4</th>\n",
       "      <td>A2STRRWYP9CSCI</td>\n",
       "      <td>B000JV9NL2</td>\n",
       "      <td>5</td>\n",
       "      <td>1266796800</td>\n",
       "    </tr>\n",
       "    <tr>\n",
       "      <th>...</th>\n",
       "      <td>...</td>\n",
       "      <td>...</td>\n",
       "      <td>...</td>\n",
       "      <td>...</td>\n",
       "    </tr>\n",
       "    <tr>\n",
       "      <th>995</th>\n",
       "      <td>A5VOT37T997D5</td>\n",
       "      <td>B003L1ZYZ6</td>\n",
       "      <td>5</td>\n",
       "      <td>1393372800</td>\n",
       "    </tr>\n",
       "    <tr>\n",
       "      <th>996</th>\n",
       "      <td>A2EZJ0SHG540WJ</td>\n",
       "      <td>B007ZEQFG2</td>\n",
       "      <td>5</td>\n",
       "      <td>1382745600</td>\n",
       "    </tr>\n",
       "    <tr>\n",
       "      <th>997</th>\n",
       "      <td>A36ZYLI5JVHT3B</td>\n",
       "      <td>B000067VC4</td>\n",
       "      <td>4</td>\n",
       "      <td>1389744000</td>\n",
       "    </tr>\n",
       "    <tr>\n",
       "      <th>998</th>\n",
       "      <td>A3BVOSEDINAR86</td>\n",
       "      <td>B0029Z9UNC</td>\n",
       "      <td>4</td>\n",
       "      <td>1341273600</td>\n",
       "    </tr>\n",
       "    <tr>\n",
       "      <th>999</th>\n",
       "      <td>A2WTOJ5TZISX1S</td>\n",
       "      <td>B00017LSPI</td>\n",
       "      <td>5</td>\n",
       "      <td>1358899200</td>\n",
       "    </tr>\n",
       "  </tbody>\n",
       "</table>\n",
       "<p>1000 rows × 4 columns</p>\n",
       "</div>"
      ],
      "text/plain": [
       "            user_id  product_id  rating   timestamp\n",
       "0    A32WYCA6H2OJ1P  B000UV4EUG       1  1221350400\n",
       "1     A1Y789H45U75X  B004G6002M       5  1357862400\n",
       "2    A2BVZA2KEVIWTV  B000MEDI3K       5  1233532800\n",
       "3    A2TQBTE41AUBE5  B0000AW0QQ       4  1145491200\n",
       "4    A2STRRWYP9CSCI  B000JV9NL2       5  1266796800\n",
       "..              ...         ...     ...         ...\n",
       "995   A5VOT37T997D5  B003L1ZYZ6       5  1393372800\n",
       "996  A2EZJ0SHG540WJ  B007ZEQFG2       5  1382745600\n",
       "997  A36ZYLI5JVHT3B  B000067VC4       4  1389744000\n",
       "998  A3BVOSEDINAR86  B0029Z9UNC       4  1341273600\n",
       "999  A2WTOJ5TZISX1S  B00017LSPI       5  1358899200\n",
       "\n",
       "[1000 rows x 4 columns]"
      ]
     },
     "execution_count": 3,
     "metadata": {},
     "output_type": "execute_result"
    }
   ],
   "source": [
    "df = fetch_data('train')\n",
    "df = df.astype({\"rating\": \"int\"})\n",
    "df"
   ]
  },
  {
   "cell_type": "markdown",
   "id": "e1d1229e-ba2e-4626-acdb-21e2274302d7",
   "metadata": {},
   "source": [
    "## Summary Statistics"
   ]
  },
  {
   "cell_type": "code",
   "execution_count": 4,
   "id": "a400adb4-cd58-4792-8af2-f6412bf7ba48",
   "metadata": {},
   "outputs": [
    {
     "name": "stdout",
     "output_type": "stream",
     "text": [
      "<class 'pandas.core.frame.DataFrame'>\n",
      "RangeIndex: 1000 entries, 0 to 999\n",
      "Data columns (total 4 columns):\n",
      " #   Column      Non-Null Count  Dtype \n",
      "---  ------      --------------  ----- \n",
      " 0   user_id     1000 non-null   object\n",
      " 1   product_id  1000 non-null   object\n",
      " 2   rating      1000 non-null   int32 \n",
      " 3   timestamp   1000 non-null   int64 \n",
      "dtypes: int32(1), int64(1), object(2)\n",
      "memory usage: 27.5+ KB\n"
     ]
    }
   ],
   "source": [
    "df.info()"
   ]
  },
  {
   "cell_type": "code",
   "execution_count": 5,
   "id": "e7fe05b6-a4ba-49b5-aec9-4673a2a2844f",
   "metadata": {},
   "outputs": [
    {
     "data": {
      "text/plain": [
       "(1000, 4)"
      ]
     },
     "execution_count": 5,
     "metadata": {},
     "output_type": "execute_result"
    }
   ],
   "source": [
    "df.shape"
   ]
  },
  {
   "cell_type": "code",
   "execution_count": 6,
   "id": "ea18fc2f-3654-4996-935f-58bc8d94bb5b",
   "metadata": {},
   "outputs": [
    {
     "data": {
      "text/html": [
       "<div>\n",
       "<style scoped>\n",
       "    .dataframe tbody tr th:only-of-type {\n",
       "        vertical-align: middle;\n",
       "    }\n",
       "\n",
       "    .dataframe tbody tr th {\n",
       "        vertical-align: top;\n",
       "    }\n",
       "\n",
       "    .dataframe thead th {\n",
       "        text-align: right;\n",
       "    }\n",
       "</style>\n",
       "<table border=\"1\" class=\"dataframe\">\n",
       "  <thead>\n",
       "    <tr style=\"text-align: right;\">\n",
       "      <th></th>\n",
       "      <th>rating</th>\n",
       "      <th>timestamp</th>\n",
       "    </tr>\n",
       "  </thead>\n",
       "  <tbody>\n",
       "    <tr>\n",
       "      <th>count</th>\n",
       "      <td>1000.000000</td>\n",
       "      <td>1.000000e+03</td>\n",
       "    </tr>\n",
       "    <tr>\n",
       "      <th>mean</th>\n",
       "      <td>3.968000</td>\n",
       "      <td>1.340095e+09</td>\n",
       "    </tr>\n",
       "    <tr>\n",
       "      <th>std</th>\n",
       "      <td>1.425836</td>\n",
       "      <td>6.733169e+07</td>\n",
       "    </tr>\n",
       "    <tr>\n",
       "      <th>min</th>\n",
       "      <td>1.000000</td>\n",
       "      <td>9.821952e+08</td>\n",
       "    </tr>\n",
       "    <tr>\n",
       "      <th>25%</th>\n",
       "      <td>3.000000</td>\n",
       "      <td>1.318572e+09</td>\n",
       "    </tr>\n",
       "    <tr>\n",
       "      <th>50%</th>\n",
       "      <td>5.000000</td>\n",
       "      <td>1.363003e+09</td>\n",
       "    </tr>\n",
       "    <tr>\n",
       "      <th>75%</th>\n",
       "      <td>5.000000</td>\n",
       "      <td>1.386547e+09</td>\n",
       "    </tr>\n",
       "    <tr>\n",
       "      <th>max</th>\n",
       "      <td>5.000000</td>\n",
       "      <td>1.405901e+09</td>\n",
       "    </tr>\n",
       "  </tbody>\n",
       "</table>\n",
       "</div>"
      ],
      "text/plain": [
       "            rating     timestamp\n",
       "count  1000.000000  1.000000e+03\n",
       "mean      3.968000  1.340095e+09\n",
       "std       1.425836  6.733169e+07\n",
       "min       1.000000  9.821952e+08\n",
       "25%       3.000000  1.318572e+09\n",
       "50%       5.000000  1.363003e+09\n",
       "75%       5.000000  1.386547e+09\n",
       "max       5.000000  1.405901e+09"
      ]
     },
     "execution_count": 6,
     "metadata": {},
     "output_type": "execute_result"
    }
   ],
   "source": [
    "df.describe()"
   ]
  },
  {
   "cell_type": "code",
   "execution_count": 7,
   "id": "b7f39232-409c-4b35-b683-a2dffa26afbd",
   "metadata": {},
   "outputs": [
    {
     "data": {
      "text/html": [
       "<div>\n",
       "<style scoped>\n",
       "    .dataframe tbody tr th:only-of-type {\n",
       "        vertical-align: middle;\n",
       "    }\n",
       "\n",
       "    .dataframe tbody tr th {\n",
       "        vertical-align: top;\n",
       "    }\n",
       "\n",
       "    .dataframe thead th {\n",
       "        text-align: right;\n",
       "    }\n",
       "</style>\n",
       "<table border=\"1\" class=\"dataframe\">\n",
       "  <thead>\n",
       "    <tr style=\"text-align: right;\">\n",
       "      <th></th>\n",
       "      <th>user_id</th>\n",
       "      <th>product_id</th>\n",
       "    </tr>\n",
       "  </thead>\n",
       "  <tbody>\n",
       "    <tr>\n",
       "      <th>count</th>\n",
       "      <td>1000</td>\n",
       "      <td>1000</td>\n",
       "    </tr>\n",
       "    <tr>\n",
       "      <th>unique</th>\n",
       "      <td>999</td>\n",
       "      <td>966</td>\n",
       "    </tr>\n",
       "    <tr>\n",
       "      <th>top</th>\n",
       "      <td>AESUSWRKMY5PE</td>\n",
       "      <td>B005HMKKH4</td>\n",
       "    </tr>\n",
       "    <tr>\n",
       "      <th>freq</th>\n",
       "      <td>2</td>\n",
       "      <td>3</td>\n",
       "    </tr>\n",
       "  </tbody>\n",
       "</table>\n",
       "</div>"
      ],
      "text/plain": [
       "              user_id  product_id\n",
       "count            1000        1000\n",
       "unique            999         966\n",
       "top     AESUSWRKMY5PE  B005HMKKH4\n",
       "freq                2           3"
      ]
     },
     "execution_count": 7,
     "metadata": {},
     "output_type": "execute_result"
    }
   ],
   "source": [
    "df.describe(include=\"O\")"
   ]
  },
  {
   "cell_type": "code",
   "execution_count": 8,
   "id": "a98d86f7-d984-46d0-908a-c7790a63b16e",
   "metadata": {},
   "outputs": [
    {
     "data": {
      "text/plain": [
       "user_id       0\n",
       "product_id    0\n",
       "rating        0\n",
       "timestamp     0\n",
       "dtype: int64"
      ]
     },
     "execution_count": 8,
     "metadata": {},
     "output_type": "execute_result"
    }
   ],
   "source": [
    "df.isna().sum()"
   ]
  },
  {
   "cell_type": "markdown",
   "id": "49f6be82-0267-45e9-8eef-fa38c93f595e",
   "metadata": {},
   "source": [
    "- Train data consists of `1000 records`\n",
    "- Has 2 numeric columns and 2 categorical columns\n",
    "- Based on summary statistics:\n",
    "  - 25% observations have rating up to 3\n",
    "  - 25% observations have rating from 3 to 5\n",
    "  - 50% observations have rating of 5\n",
    "  - The user `AESUSWRKMY5PE` has given the most no. of reviews (~ 500)\n",
    "  - The product `B005HMKKH4` has received the most no. of reviews (~ 17000)\n",
    "- There are `no missing values` in the training set"
   ]
  },
  {
   "cell_type": "markdown",
   "id": "1b21d9da-1089-40e6-8f36-94dfdf8a3d8a",
   "metadata": {},
   "source": [
    "## Rating"
   ]
  },
  {
   "cell_type": "code",
   "execution_count": 9,
   "id": "481749a9-44ef-4aad-893c-6faeb3e05695",
   "metadata": {},
   "outputs": [
    {
     "data": {
      "text/html": [
       "<div>\n",
       "<style scoped>\n",
       "    .dataframe tbody tr th:only-of-type {\n",
       "        vertical-align: middle;\n",
       "    }\n",
       "\n",
       "    .dataframe tbody tr th {\n",
       "        vertical-align: top;\n",
       "    }\n",
       "\n",
       "    .dataframe thead th {\n",
       "        text-align: right;\n",
       "    }\n",
       "</style>\n",
       "<table border=\"1\" class=\"dataframe\">\n",
       "  <thead>\n",
       "    <tr style=\"text-align: right;\">\n",
       "      <th></th>\n",
       "      <th>freq</th>\n",
       "      <th>percentage</th>\n",
       "    </tr>\n",
       "  </thead>\n",
       "  <tbody>\n",
       "    <tr>\n",
       "      <th>1</th>\n",
       "      <td>138</td>\n",
       "      <td>0.138</td>\n",
       "    </tr>\n",
       "    <tr>\n",
       "      <th>2</th>\n",
       "      <td>44</td>\n",
       "      <td>0.044</td>\n",
       "    </tr>\n",
       "    <tr>\n",
       "      <th>3</th>\n",
       "      <td>72</td>\n",
       "      <td>0.072</td>\n",
       "    </tr>\n",
       "    <tr>\n",
       "      <th>4</th>\n",
       "      <td>204</td>\n",
       "      <td>0.204</td>\n",
       "    </tr>\n",
       "    <tr>\n",
       "      <th>5</th>\n",
       "      <td>542</td>\n",
       "      <td>0.542</td>\n",
       "    </tr>\n",
       "  </tbody>\n",
       "</table>\n",
       "</div>"
      ],
      "text/plain": [
       "   freq  percentage\n",
       "1   138       0.138\n",
       "2    44       0.044\n",
       "3    72       0.072\n",
       "4   204       0.204\n",
       "5   542       0.542"
      ]
     },
     "execution_count": 9,
     "metadata": {},
     "output_type": "execute_result"
    }
   ],
   "source": [
    "(\n",
    "\tdf.rating\n",
    "\t.value_counts()\n",
    "\t.pipe(lambda ser: pd.concat([ser, df.rating.value_counts(normalize=True)], axis=1))\n",
    "\t.sort_index()\n",
    "\t.set_axis(['freq', 'percentage'], axis=1)\n",
    ")"
   ]
  },
  {
   "cell_type": "code",
   "execution_count": 10,
   "id": "c14de6bd-5d1f-41ba-ba9e-92a25f71824f",
   "metadata": {},
   "outputs": [
    {
     "data": {
      "image/png": "[encoded data removed]",
      "text/plain": [
       "<Figure size 1000x500 with 1 Axes>"
      ]
     },
     "metadata": {},
     "output_type": "display_data"
    }
   ],
   "source": [
    "plt.figure(figsize=(10, 5))\n",
    "\n",
    "(\n",
    "\tdf.rating\n",
    "\t.value_counts()\n",
    "\t.sort_index()\n",
    "\t.plot(kind='bar', edgecolor='black')\n",
    ")\n",
    "plt.xlabel(\"Ratings\")\n",
    "plt.xticks(rotation=0)\n",
    "plt.ylabel(\"Frequency\")\n",
    "\n",
    "plt.show()"
   ]
  },
  {
   "cell_type": "code",
   "execution_count": 11,
   "id": "92b982ab-eb22-4dc7-99c3-1eae37110ccc",
   "metadata": {},
   "outputs": [
    {
     "data": {
      "image/png": "[encoded data removed]",
      "text/plain": [
       "<Figure size 1000x500 with 1 Axes>"
      ]
     },
     "metadata": {},
     "output_type": "display_data"
    }
   ],
   "source": [
    "plt.figure(figsize=(10, 5))\n",
    "\n",
    "(\n",
    "\tdf.rating\n",
    "\t.value_counts()\n",
    "\t.sort_index()\n",
    "\t.plot(\n",
    "\t\tkind='pie',\n",
    "\t\tautopct='%1.1f%%',\n",
    "\t\ttitle='Rating Distribution',\n",
    "\t\ttextprops=dict(color='white', weight='bold')\n",
    "\t)\n",
    ")\n",
    "plt.legend(loc='upper left', bbox_to_anchor=(1.1, 1))\n",
    "\n",
    "plt.show()"
   ]
  },
  {
   "cell_type": "markdown",
   "id": "ad9d6403-8427-440b-81c5-a91cd0127811",
   "metadata": {},
   "source": [
    "- Almost `54%` ratings are of 5 stars\n",
    "- Very few users have given 2 stars"
   ]
  },
  {
   "cell_type": "markdown",
   "id": "d71b5d64-9f14-45ae-89b9-b7787d908873",
   "metadata": {},
   "source": [
    "## Top 10 Users who have given the most no. of Reviews"
   ]
  },
  {
   "cell_type": "code",
   "execution_count": 12,
   "id": "79b06dc2-bc12-4746-a5f2-5e9d0657026e",
   "metadata": {},
   "outputs": [
    {
     "data": {
      "text/plain": [
       "AESUSWRKMY5PE     2\n",
       "A15V22SPW4UCKL    1\n",
       "A1HQ7BG2VGUT03    1\n",
       "A3MARHAZTWIG5R    1\n",
       "A2BVZA2KEVIWTV    1\n",
       "A2TQBTE41AUBE5    1\n",
       "A2STRRWYP9CSCI    1\n",
       "A2MI9M5AM37SR3    1\n",
       "A1V4P6GGY728TV    1\n",
       "ACBXWNU4CMHGL     1\n",
       "Name: user_id, dtype: int64"
      ]
     },
     "execution_count": 12,
     "metadata": {},
     "output_type": "execute_result"
    }
   ],
   "source": [
    "(\n",
    "\tdf.user_id\n",
    "\t.value_counts()\n",
    "\t.sort_values(ascending=False)\n",
    "\t.head(10)\n",
    ")"
   ]
  },
  {
   "cell_type": "markdown",
   "id": "4713db4d-1ca5-4243-a77f-a023ad33f692",
   "metadata": {},
   "source": [
    "## Top 10 Products that have been given the most no. of Reviews"
   ]
  },
  {
   "cell_type": "code",
   "execution_count": 13,
   "id": "c0473fe4-f671-44ec-b5cb-d8ea7f5f545a",
   "metadata": {},
   "outputs": [
    {
     "data": {
      "text/plain": [
       "B005HMKKH4    3\n",
       "B0002L5R78    2\n",
       "B008RXYOKY    2\n",
       "B006GH8VI4    2\n",
       "B006TT91TW    2\n",
       "B00A7BGMSQ    2\n",
       "B001S4OTS6    2\n",
       "B004G6002M    2\n",
       "B00BF9HZT4    2\n",
       "B007XOQ3BQ    2\n",
       "Name: product_id, dtype: int64"
      ]
     },
     "execution_count": 13,
     "metadata": {},
     "output_type": "execute_result"
    }
   ],
   "source": [
    "(\n",
    "\tdf.product_id\n",
    "\t.value_counts()\n",
    "\t.sort_values(ascending=False)\n",
    "\t.head(10)\n",
    ")"
   ]
  },
  {
   "cell_type": "markdown",
   "id": "9e1bf2c6-6b65-4ca2-bbcb-0a933f97675c",
   "metadata": {},
   "source": [
    "## Top 10 Products that have received the Highest Average Ratings\n",
    "\n",
    "#### Criteria:\n",
    "- The products should have been given more than 10 reviews to be considered"
   ]
  },
  {
   "cell_type": "code",
   "execution_count": 14,
   "id": "c9f3a621-10d9-4689-a5b9-43d6c3b84dcb",
   "metadata": {},
   "outputs": [
    {
     "data": {
      "text/plain": [
       "Series([], Name: rating, dtype: float64)"
      ]
     },
     "execution_count": 14,
     "metadata": {},
     "output_type": "execute_result"
    }
   ],
   "source": [
    "(\n",
    "\tdf.product_id\n",
    "\t.value_counts()\n",
    "\t.rename('freq')\n",
    "\t.to_frame()\n",
    "\t.query(\"freq > 10\")\n",
    "\t.join(df.set_index('product_id'))\n",
    "\t.reset_index(names='product_id')\n",
    "\t.groupby('product_id')['rating']\n",
    "\t.mean()\n",
    "\t.sort_values(ascending=False)\n",
    "\t.head(10)\n",
    ")"
   ]
  },
  {
   "cell_type": "markdown",
   "id": "7ce21d48-c7aa-4dfb-b949-4d24b63eb1cc",
   "metadata": {},
   "source": [
    "- There are no such products due to dataset size constraints"
   ]
  }
 ],
 "metadata": {
  "kernelspec": {
   "display_name": "hands_on_ml",
   "language": "python",
   "name": "hands_on_ml"
  },
  "language_info": {
   "codemirror_mode": {
    "name": "ipython",
    "version": 3
   },
   "file_extension": ".py",
   "mimetype": "text/x-python",
   "name": "python",
   "nbconvert_exporter": "python",
   "pygments_lexer": "ipython3",
   "version": "3.11.0"
  }
 },
 "nbformat": 4,
 "nbformat_minor": 5
}

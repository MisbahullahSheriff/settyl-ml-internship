{
 "cells": [
  {
   "cell_type": "markdown",
   "id": "e16dc2a3-95db-4102-84dd-ccf77add12fe",
   "metadata": {},
   "source": [
    "## Imports"
   ]
  },
  {
   "cell_type": "code",
   "execution_count": 1,
   "id": "9cabff90-1d37-4f95-a27f-3bb67596ab1e",
   "metadata": {},
   "outputs": [],
   "source": [
    "import os\n",
    "import numpy as np\n",
    "import pandas as pd\n",
    "import matplotlib.pyplot as plt\n",
    "import seaborn as sns"
   ]
  },
  {
   "cell_type": "markdown",
   "id": "01f47abb-c453-4579-9a84-b7ab05a00375",
   "metadata": {},
   "source": [
    "## Fetch Data"
   ]
  },
  {
   "cell_type": "code",
   "execution_count": 2,
   "id": "634be974-f63c-4d8a-92a2-578f86fdc620",
   "metadata": {},
   "outputs": [],
   "source": [
    "def fetch_data(filename):\n",
    "\tfetch_dir = os.path.join(os.getcwd(), 'data')\n",
    "\tdata_path = os.path.join(fetch_dir, f\"{filename}.parquet\")\n",
    "\treturn pd.read_parquet(data_path)"
   ]
  },
  {
   "cell_type": "code",
   "execution_count": 3,
   "id": "bc42e014-0aff-48b4-9e84-281f841fa646",
   "metadata": {},
   "outputs": [
    {
     "data": {
      "text/html": [
       "<div>\n",
       "<style scoped>\n",
       "    .dataframe tbody tr th:only-of-type {\n",
       "        vertical-align: middle;\n",
       "    }\n",
       "\n",
       "    .dataframe tbody tr th {\n",
       "        vertical-align: top;\n",
       "    }\n",
       "\n",
       "    .dataframe thead th {\n",
       "        text-align: right;\n",
       "    }\n",
       "</style>\n",
       "<table border=\"1\" class=\"dataframe\">\n",
       "  <thead>\n",
       "    <tr style=\"text-align: right;\">\n",
       "      <th></th>\n",
       "      <th>user_id</th>\n",
       "      <th>product_id</th>\n",
       "      <th>rating</th>\n",
       "      <th>timestamp</th>\n",
       "    </tr>\n",
       "  </thead>\n",
       "  <tbody>\n",
       "    <tr>\n",
       "      <th>0</th>\n",
       "      <td>AKOP2TUFBZOAV</td>\n",
       "      <td>B004N625BY</td>\n",
       "      <td>5</td>\n",
       "      <td>1399593600</td>\n",
       "    </tr>\n",
       "    <tr>\n",
       "      <th>1</th>\n",
       "      <td>A2M49J0G7K13CJ</td>\n",
       "      <td>B004W8ICGK</td>\n",
       "      <td>1</td>\n",
       "      <td>1360713600</td>\n",
       "    </tr>\n",
       "    <tr>\n",
       "      <th>2</th>\n",
       "      <td>A392E6D0BF3IHO</td>\n",
       "      <td>B001TK3D4A</td>\n",
       "      <td>1</td>\n",
       "      <td>1308787200</td>\n",
       "    </tr>\n",
       "    <tr>\n",
       "      <th>3</th>\n",
       "      <td>A12ET06IO3ZJGW</td>\n",
       "      <td>B002NWN6M2</td>\n",
       "      <td>4</td>\n",
       "      <td>1348272000</td>\n",
       "    </tr>\n",
       "    <tr>\n",
       "      <th>4</th>\n",
       "      <td>ASOQMLJ0TTUB4</td>\n",
       "      <td>B002ZBCCU8</td>\n",
       "      <td>5</td>\n",
       "      <td>1329091200</td>\n",
       "    </tr>\n",
       "    <tr>\n",
       "      <th>...</th>\n",
       "      <td>...</td>\n",
       "      <td>...</td>\n",
       "      <td>...</td>\n",
       "      <td>...</td>\n",
       "    </tr>\n",
       "    <tr>\n",
       "      <th>7433252</th>\n",
       "      <td>AN3MTN0PP9EWH</td>\n",
       "      <td>B00C1AGE6G</td>\n",
       "      <td>1</td>\n",
       "      <td>1404172800</td>\n",
       "    </tr>\n",
       "    <tr>\n",
       "      <th>7433253</th>\n",
       "      <td>A1WMYMK2KP4NNQ</td>\n",
       "      <td>B0013PQ6P4</td>\n",
       "      <td>4</td>\n",
       "      <td>1270425600</td>\n",
       "    </tr>\n",
       "    <tr>\n",
       "      <th>7433254</th>\n",
       "      <td>AKUHWCJEXGFM9</td>\n",
       "      <td>B005HTZW2U</td>\n",
       "      <td>5</td>\n",
       "      <td>1336867200</td>\n",
       "    </tr>\n",
       "    <tr>\n",
       "      <th>7433255</th>\n",
       "      <td>A2IMGUQZRJ26TU</td>\n",
       "      <td>B002WLHPNK</td>\n",
       "      <td>5</td>\n",
       "      <td>1373068800</td>\n",
       "    </tr>\n",
       "    <tr>\n",
       "      <th>7433256</th>\n",
       "      <td>AIJ9TYVPRJXQ1</td>\n",
       "      <td>B004J4VYG2</td>\n",
       "      <td>2</td>\n",
       "      <td>1307577600</td>\n",
       "    </tr>\n",
       "  </tbody>\n",
       "</table>\n",
       "<p>7433257 rows × 4 columns</p>\n",
       "</div>"
      ],
      "text/plain": [
       "                user_id  product_id  rating   timestamp\n",
       "0         AKOP2TUFBZOAV  B004N625BY       5  1399593600\n",
       "1        A2M49J0G7K13CJ  B004W8ICGK       1  1360713600\n",
       "2        A392E6D0BF3IHO  B001TK3D4A       1  1308787200\n",
       "3        A12ET06IO3ZJGW  B002NWN6M2       4  1348272000\n",
       "4         ASOQMLJ0TTUB4  B002ZBCCU8       5  1329091200\n",
       "...                 ...         ...     ...         ...\n",
       "7433252   AN3MTN0PP9EWH  B00C1AGE6G       1  1404172800\n",
       "7433253  A1WMYMK2KP4NNQ  B0013PQ6P4       4  1270425600\n",
       "7433254   AKUHWCJEXGFM9  B005HTZW2U       5  1336867200\n",
       "7433255  A2IMGUQZRJ26TU  B002WLHPNK       5  1373068800\n",
       "7433256   AIJ9TYVPRJXQ1  B004J4VYG2       2  1307577600\n",
       "\n",
       "[7433257 rows x 4 columns]"
      ]
     },
     "execution_count": 3,
     "metadata": {},
     "output_type": "execute_result"
    }
   ],
   "source": [
    "df = fetch_data('train')\n",
    "df = df.astype({\"rating\": \"int\"})\n",
    "df"
   ]
  },
  {
   "cell_type": "markdown",
   "id": "e1d1229e-ba2e-4626-acdb-21e2274302d7",
   "metadata": {},
   "source": [
    "## Summary Statistics"
   ]
  },
  {
   "cell_type": "code",
   "execution_count": 4,
   "id": "a400adb4-cd58-4792-8af2-f6412bf7ba48",
   "metadata": {},
   "outputs": [
    {
     "name": "stdout",
     "output_type": "stream",
     "text": [
      "<class 'pandas.core.frame.DataFrame'>\n",
      "RangeIndex: 7433257 entries, 0 to 7433256\n",
      "Data columns (total 4 columns):\n",
      " #   Column      Dtype \n",
      "---  ------      ----- \n",
      " 0   user_id     object\n",
      " 1   product_id  object\n",
      " 2   rating      int32 \n",
      " 3   timestamp   int64 \n",
      "dtypes: int32(1), int64(1), object(2)\n",
      "memory usage: 198.5+ MB\n"
     ]
    }
   ],
   "source": [
    "df.info()"
   ]
  },
  {
   "cell_type": "code",
   "execution_count": 5,
   "id": "e7fe05b6-a4ba-49b5-aec9-4673a2a2844f",
   "metadata": {},
   "outputs": [
    {
     "data": {
      "text/plain": [
       "(7433257, 4)"
      ]
     },
     "execution_count": 5,
     "metadata": {},
     "output_type": "execute_result"
    }
   ],
   "source": [
    "df.shape"
   ]
  },
  {
   "cell_type": "code",
   "execution_count": 6,
   "id": "ea18fc2f-3654-4996-935f-58bc8d94bb5b",
   "metadata": {},
   "outputs": [
    {
     "data": {
      "text/html": [
       "<div>\n",
       "<style scoped>\n",
       "    .dataframe tbody tr th:only-of-type {\n",
       "        vertical-align: middle;\n",
       "    }\n",
       "\n",
       "    .dataframe tbody tr th {\n",
       "        vertical-align: top;\n",
       "    }\n",
       "\n",
       "    .dataframe thead th {\n",
       "        text-align: right;\n",
       "    }\n",
       "</style>\n",
       "<table border=\"1\" class=\"dataframe\">\n",
       "  <thead>\n",
       "    <tr style=\"text-align: right;\">\n",
       "      <th></th>\n",
       "      <th>rating</th>\n",
       "      <th>timestamp</th>\n",
       "    </tr>\n",
       "  </thead>\n",
       "  <tbody>\n",
       "    <tr>\n",
       "      <th>count</th>\n",
       "      <td>7.433257e+06</td>\n",
       "      <td>7.433257e+06</td>\n",
       "    </tr>\n",
       "    <tr>\n",
       "      <th>mean</th>\n",
       "      <td>4.012448e+00</td>\n",
       "      <td>1.338177e+09</td>\n",
       "    </tr>\n",
       "    <tr>\n",
       "      <th>std</th>\n",
       "      <td>1.380818e+00</td>\n",
       "      <td>6.900519e+07</td>\n",
       "    </tr>\n",
       "    <tr>\n",
       "      <th>min</th>\n",
       "      <td>1.000000e+00</td>\n",
       "      <td>9.127296e+08</td>\n",
       "    </tr>\n",
       "    <tr>\n",
       "      <th>25%</th>\n",
       "      <td>3.000000e+00</td>\n",
       "      <td>1.315267e+09</td>\n",
       "    </tr>\n",
       "    <tr>\n",
       "      <th>50%</th>\n",
       "      <td>5.000000e+00</td>\n",
       "      <td>1.361059e+09</td>\n",
       "    </tr>\n",
       "    <tr>\n",
       "      <th>75%</th>\n",
       "      <td>5.000000e+00</td>\n",
       "      <td>1.386115e+09</td>\n",
       "    </tr>\n",
       "    <tr>\n",
       "      <th>max</th>\n",
       "      <td>5.000000e+00</td>\n",
       "      <td>1.406074e+09</td>\n",
       "    </tr>\n",
       "  </tbody>\n",
       "</table>\n",
       "</div>"
      ],
      "text/plain": [
       "             rating     timestamp\n",
       "count  7.433257e+06  7.433257e+06\n",
       "mean   4.012448e+00  1.338177e+09\n",
       "std    1.380818e+00  6.900519e+07\n",
       "min    1.000000e+00  9.127296e+08\n",
       "25%    3.000000e+00  1.315267e+09\n",
       "50%    5.000000e+00  1.361059e+09\n",
       "75%    5.000000e+00  1.386115e+09\n",
       "max    5.000000e+00  1.406074e+09"
      ]
     },
     "execution_count": 6,
     "metadata": {},
     "output_type": "execute_result"
    }
   ],
   "source": [
    "df.describe()"
   ]
  },
  {
   "cell_type": "code",
   "execution_count": 7,
   "id": "b7f39232-409c-4b35-b683-a2dffa26afbd",
   "metadata": {},
   "outputs": [
    {
     "data": {
      "text/html": [
       "<div>\n",
       "<style scoped>\n",
       "    .dataframe tbody tr th:only-of-type {\n",
       "        vertical-align: middle;\n",
       "    }\n",
       "\n",
       "    .dataframe tbody tr th {\n",
       "        vertical-align: top;\n",
       "    }\n",
       "\n",
       "    .dataframe thead th {\n",
       "        text-align: right;\n",
       "    }\n",
       "</style>\n",
       "<table border=\"1\" class=\"dataframe\">\n",
       "  <thead>\n",
       "    <tr style=\"text-align: right;\">\n",
       "      <th></th>\n",
       "      <th>user_id</th>\n",
       "      <th>product_id</th>\n",
       "    </tr>\n",
       "  </thead>\n",
       "  <tbody>\n",
       "    <tr>\n",
       "      <th>count</th>\n",
       "      <td>7433257</td>\n",
       "      <td>7433257</td>\n",
       "    </tr>\n",
       "    <tr>\n",
       "      <th>unique</th>\n",
       "      <td>4055607</td>\n",
       "      <td>466792</td>\n",
       "    </tr>\n",
       "    <tr>\n",
       "      <th>top</th>\n",
       "      <td>A5JLAU2ARJ0BO</td>\n",
       "      <td>B0074BW614</td>\n",
       "    </tr>\n",
       "    <tr>\n",
       "      <th>freq</th>\n",
       "      <td>494</td>\n",
       "      <td>17396</td>\n",
       "    </tr>\n",
       "  </tbody>\n",
       "</table>\n",
       "</div>"
      ],
      "text/plain": [
       "              user_id  product_id\n",
       "count         7433257     7433257\n",
       "unique        4055607      466792\n",
       "top     A5JLAU2ARJ0BO  B0074BW614\n",
       "freq              494       17396"
      ]
     },
     "execution_count": 7,
     "metadata": {},
     "output_type": "execute_result"
    }
   ],
   "source": [
    "df.describe(include=\"O\")"
   ]
  },
  {
   "cell_type": "code",
   "execution_count": 8,
   "id": "a98d86f7-d984-46d0-908a-c7790a63b16e",
   "metadata": {},
   "outputs": [
    {
     "data": {
      "text/plain": [
       "user_id       0\n",
       "product_id    0\n",
       "rating        0\n",
       "timestamp     0\n",
       "dtype: int64"
      ]
     },
     "execution_count": 8,
     "metadata": {},
     "output_type": "execute_result"
    }
   ],
   "source": [
    "df.isna().sum()"
   ]
  },
  {
   "cell_type": "markdown",
   "id": "49f6be82-0267-45e9-8eef-fa38c93f595e",
   "metadata": {},
   "source": [
    "- Train data consists of about `7.5 million records`\n",
    "- Has 2 numeric columns and 2 categorical columns\n",
    "- Based on summary statistics:\n",
    "  - 25% observations have rating up to 3\n",
    "  - 25% observations have rating from 3 to 5\n",
    "  - 50% observations have rating of 5\n",
    "  - There are about `4 million unique users` who have reviewed products\n",
    "  - There are about `470 thousand unique products` that were reviewed\n",
    "  - The user `A5JLAU2ARJ0BO` has given the most no. of reviews (~ 500)\n",
    "  - The product `B0074BW614` has received the most no. of reviews (~ 17000)\n",
    "- There are `no missing values` in the training set"
   ]
  },
  {
   "cell_type": "markdown",
   "id": "1b21d9da-1089-40e6-8f36-94dfdf8a3d8a",
   "metadata": {},
   "source": [
    "## Rating"
   ]
  },
  {
   "cell_type": "code",
   "execution_count": 9,
   "id": "481749a9-44ef-4aad-893c-6faeb3e05695",
   "metadata": {},
   "outputs": [
    {
     "data": {
      "text/html": [
       "<div>\n",
       "<style scoped>\n",
       "    .dataframe tbody tr th:only-of-type {\n",
       "        vertical-align: middle;\n",
       "    }\n",
       "\n",
       "    .dataframe tbody tr th {\n",
       "        vertical-align: top;\n",
       "    }\n",
       "\n",
       "    .dataframe thead th {\n",
       "        text-align: right;\n",
       "    }\n",
       "</style>\n",
       "<table border=\"1\" class=\"dataframe\">\n",
       "  <thead>\n",
       "    <tr style=\"text-align: right;\">\n",
       "      <th></th>\n",
       "      <th>freq</th>\n",
       "      <th>percentage</th>\n",
       "    </tr>\n",
       "  </thead>\n",
       "  <tbody>\n",
       "    <tr>\n",
       "      <th>1</th>\n",
       "      <td>856447</td>\n",
       "      <td>0.115218</td>\n",
       "    </tr>\n",
       "    <tr>\n",
       "      <th>2</th>\n",
       "      <td>433575</td>\n",
       "      <td>0.058329</td>\n",
       "    </tr>\n",
       "    <tr>\n",
       "      <th>3</th>\n",
       "      <td>601244</td>\n",
       "      <td>0.080886</td>\n",
       "    </tr>\n",
       "    <tr>\n",
       "      <th>4</th>\n",
       "      <td>1411728</td>\n",
       "      <td>0.189921</td>\n",
       "    </tr>\n",
       "    <tr>\n",
       "      <th>5</th>\n",
       "      <td>4130263</td>\n",
       "      <td>0.555646</td>\n",
       "    </tr>\n",
       "  </tbody>\n",
       "</table>\n",
       "</div>"
      ],
      "text/plain": [
       "      freq  percentage\n",
       "1   856447    0.115218\n",
       "2   433575    0.058329\n",
       "3   601244    0.080886\n",
       "4  1411728    0.189921\n",
       "5  4130263    0.555646"
      ]
     },
     "execution_count": 9,
     "metadata": {},
     "output_type": "execute_result"
    }
   ],
   "source": [
    "(\n",
    "\tdf.rating\n",
    "\t.value_counts()\n",
    "\t.pipe(lambda ser: pd.concat([ser, df.rating.value_counts(normalize=True)], axis=1))\n",
    "\t.sort_index()\n",
    "\t.set_axis(['freq', 'percentage'], axis=1)\n",
    ")"
   ]
  },
  {
   "cell_type": "code",
   "execution_count": 10,
   "id": "c14de6bd-5d1f-41ba-ba9e-92a25f71824f",
   "metadata": {},
   "outputs": [
    {
     "data": {
      "image/png": "[encoded data removed]",
      "text/plain": [
       "<Figure size 1000x500 with 1 Axes>"
      ]
     },
     "metadata": {},
     "output_type": "display_data"
    }
   ],
   "source": [
    "plt.figure(figsize=(10, 5))\n",
    "\n",
    "(\n",
    "\tdf.rating\n",
    "\t.value_counts()\n",
    "\t.sort_index()\n",
    "\t.plot(kind='bar', edgecolor='black')\n",
    ")\n",
    "plt.xlabel(\"Ratings\")\n",
    "plt.xticks(rotation=0)\n",
    "plt.ylabel(\"Frequency\")\n",
    "\n",
    "plt.show()"
   ]
  },
  {
   "cell_type": "code",
   "execution_count": 11,
   "id": "92b982ab-eb22-4dc7-99c3-1eae37110ccc",
   "metadata": {},
   "outputs": [
    {
     "data": {
      "image/png": "[encoded data removed]",
      "text/plain": [
       "<Figure size 1000x500 with 1 Axes>"
      ]
     },
     "metadata": {},
     "output_type": "display_data"
    }
   ],
   "source": [
    "plt.figure(figsize=(10, 5))\n",
    "\n",
    "(\n",
    "\tdf.rating\n",
    "\t.value_counts()\n",
    "\t.sort_index()\n",
    "\t.plot(\n",
    "\t\tkind='pie',\n",
    "\t\tautopct='%1.1f%%',\n",
    "\t\ttitle='Rating Distribution',\n",
    "\t\ttextprops=dict(color='white', weight='bold')\n",
    "\t)\n",
    ")\n",
    "# plt.xlabel(\"Ratings\")\n",
    "# plt.xticks(rotation=0)\n",
    "# plt.ylabel(\"Frequency\")\n",
    "plt.legend(loc='upper left', bbox_to_anchor=(1.1, 1))\n",
    "\n",
    "plt.show()"
   ]
  },
  {
   "cell_type": "markdown",
   "id": "ad9d6403-8427-440b-81c5-a91cd0127811",
   "metadata": {},
   "source": [
    "- Almost `55%` ratings are of 5 stars\n",
    "- Very few users have given 2 stars"
   ]
  },
  {
   "cell_type": "markdown",
   "id": "d71b5d64-9f14-45ae-89b9-b7787d908873",
   "metadata": {},
   "source": [
    "## Top 10 Users who have given the most no. of Reviews"
   ]
  },
  {
   "cell_type": "code",
   "execution_count": 12,
   "id": "79b06dc2-bc12-4746-a5f2-5e9d0657026e",
   "metadata": {},
   "outputs": [
    {
     "data": {
      "text/plain": [
       "A5JLAU2ARJ0BO     494\n",
       "ADLVFFE4VBT8      475\n",
       "A3OXHLG6DIBRW8    474\n",
       "A6FIAB28IS79      408\n",
       "A680RUE1FDO8B     387\n",
       "A1ODOGXEYECQQ8    354\n",
       "A36K2N527TXXJN    303\n",
       "AWPODHOB4GFWL     300\n",
       "A2AY4YUOX2N1BQ    289\n",
       "ARBKYIVNYWK3C     288\n",
       "Name: user_id, dtype: int64"
      ]
     },
     "execution_count": 12,
     "metadata": {},
     "output_type": "execute_result"
    }
   ],
   "source": [
    "(\n",
    "\tdf.user_id\n",
    "\t.value_counts()\n",
    "\t.sort_values(ascending=False)\n",
    "\t.head(10)\n",
    ")"
   ]
  },
  {
   "cell_type": "markdown",
   "id": "8d7d89e9-394a-4c1c-9194-f0627a76b042",
   "metadata": {},
   "source": [
    "- The top 10 such users have each given atleast 288 reviews on products\n",
    "- Only 3 users have given `470 and above` total reviews"
   ]
  },
  {
   "cell_type": "markdown",
   "id": "9d448df1-6b40-4a93-ac2b-941e8c099448",
   "metadata": {},
   "source": [
    "## Top 10 Users who have given the Highest Average Ratings\n",
    "\n",
    "#### Criteria:\n",
    "- The users should have given more than 10 reviews to be considered"
   ]
  },
  {
   "cell_type": "code",
   "execution_count": 13,
   "id": "5d37ccb1-9969-45bb-aff2-5f9291607454",
   "metadata": {},
   "outputs": [
    {
     "data": {
      "text/plain": [
       "user_id\n",
       "A0279100VZXR9A2495P4    5.0\n",
       "A24SP9MHTDE9AB          5.0\n",
       "A300T9OR1F6QER          5.0\n",
       "A16088F4D2K0Z1          5.0\n",
       "AQOVCKBMUBVS5           5.0\n",
       "A24UZIUL0V11PZ          5.0\n",
       "A24TID7JRCS7ZY          5.0\n",
       "A3046XM1BG5LGX          5.0\n",
       "A304B8P50JOE3O          5.0\n",
       "AEA87UQE4GY9K           5.0\n",
       "Name: rating, dtype: float64"
      ]
     },
     "execution_count": 13,
     "metadata": {},
     "output_type": "execute_result"
    }
   ],
   "source": [
    "(\n",
    "\tdf.user_id\n",
    "\t.value_counts()\n",
    "\t.rename('freq')\n",
    "\t.to_frame()\n",
    "\t.query(\"freq > 10\")\n",
    "\t.join(df.set_index('user_id'))\n",
    "\t.reset_index(names='user_id')\n",
    "\t.groupby('user_id')['rating']\n",
    "\t.mean()\n",
    "\t.sort_values(ascending=False)\n",
    "\t.head(10)\n",
    ")"
   ]
  },
  {
   "cell_type": "markdown",
   "id": "af4373ed-097c-4a33-b3b8-8625b6957271",
   "metadata": {},
   "source": [
    "- The top 10 such users have all given 5 star ratings in all their reviews"
   ]
  },
  {
   "cell_type": "markdown",
   "id": "4713db4d-1ca5-4243-a77f-a023ad33f692",
   "metadata": {},
   "source": [
    "## Top 10 Products that have been given the most no. of Reviews"
   ]
  },
  {
   "cell_type": "code",
   "execution_count": 14,
   "id": "c0473fe4-f671-44ec-b5cb-d8ea7f5f545a",
   "metadata": {},
   "outputs": [
    {
     "data": {
      "text/plain": [
       "B0074BW614    17396\n",
       "B00DR0PDNE    15630\n",
       "B007WTAJTO    13434\n",
       "B0019EHU8G    11700\n",
       "B006GWO5WK    11608\n",
       "B003ELYQGG    11058\n",
       "B003ES5ZUU     9748\n",
       "B007R5YDYA     9392\n",
       "B00622AG6S     9322\n",
       "B0002L5R78     9010\n",
       "Name: product_id, dtype: int64"
      ]
     },
     "execution_count": 14,
     "metadata": {},
     "output_type": "execute_result"
    }
   ],
   "source": [
    "(\n",
    "\tdf.product_id\n",
    "\t.value_counts()\n",
    "\t.sort_values(ascending=False)\n",
    "\t.head(10)\n",
    ")"
   ]
  },
  {
   "cell_type": "markdown",
   "id": "74cafd4f-571c-4485-a60b-681f23ba5719",
   "metadata": {},
   "source": [
    "- The top 10 such products have each been given atleast `9,000 or more` reviews\n",
    "- Only one product has been reviewed more than `17,000 times`\n",
    "- There are 6 products that have been reviewed more than `10,000 times`"
   ]
  },
  {
   "cell_type": "markdown",
   "id": "9e1bf2c6-6b65-4ca2-bbcb-0a933f97675c",
   "metadata": {},
   "source": [
    "## Top 10 Products that have received the Highest Average Ratings\n",
    "\n",
    "#### Criteria:\n",
    "- The products should have been given more than 10 reviews to be considered"
   ]
  },
  {
   "cell_type": "code",
   "execution_count": 15,
   "id": "c9f3a621-10d9-4689-a5b9-43d6c3b84dcb",
   "metadata": {},
   "outputs": [
    {
     "data": {
      "text/plain": [
       "product_id\n",
       "B002C1BHJ8    5.0\n",
       "B001CYCK6A    5.0\n",
       "B00EPDMDZ8    5.0\n",
       "B0016O3T7A    5.0\n",
       "B002JGZBJS    5.0\n",
       "B001OXRTVU    5.0\n",
       "B00ER8HDME    5.0\n",
       "B002T3JN0Y    5.0\n",
       "B009AFL5X2    5.0\n",
       "B0016J8PQA    5.0\n",
       "Name: rating, dtype: float64"
      ]
     },
     "execution_count": 15,
     "metadata": {},
     "output_type": "execute_result"
    }
   ],
   "source": [
    "(\n",
    "\tdf.product_id\n",
    "\t.value_counts()\n",
    "\t.rename('freq')\n",
    "\t.to_frame()\n",
    "\t.query(\"freq > 10\")\n",
    "\t.join(df.set_index('product_id'))\n",
    "\t.reset_index(names='product_id')\n",
    "\t.groupby('product_id')['rating']\n",
    "\t.mean()\n",
    "\t.sort_values(ascending=False)\n",
    "\t.head(10)\n",
    ")"
   ]
  },
  {
   "cell_type": "markdown",
   "id": "7ce21d48-c7aa-4dfb-b949-4d24b63eb1cc",
   "metadata": {},
   "source": [
    "- The top 10 such products have all been given 5 star ratings in all their reviews"
   ]
  }
 ],
 "metadata": {
  "kernelspec": {
   "display_name": "hands_on_ml",
   "language": "python",
   "name": "hands_on_ml"
  },
  "language_info": {
   "codemirror_mode": {
    "name": "ipython",
    "version": 3
   },
   "file_extension": ".py",
   "mimetype": "text/x-python",
   "name": "python",
   "nbconvert_exporter": "python",
   "pygments_lexer": "ipython3",
   "version": "3.11.0"
  }
 },
 "nbformat": 4,
 "nbformat_minor": 5
}
